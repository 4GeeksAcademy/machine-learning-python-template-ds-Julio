{
 "cells": [
  {
   "cell_type": "code",
   "execution_count": 1,
   "metadata": {},
   "outputs": [
    {
     "ename": "ModuleNotFoundError",
     "evalue": "No module named 'tensorflow'",
     "output_type": "error",
     "traceback": [
      "\u001b[0;31m---------------------------------------------------------------------------\u001b[0m",
      "\u001b[0;31mModuleNotFoundError\u001b[0m                       Traceback (most recent call last)",
      "Cell \u001b[0;32mIn[1], line 4\u001b[0m\n\u001b[1;32m      2\u001b[0m \u001b[38;5;28;01mimport\u001b[39;00m \u001b[38;5;21;01mnumpy\u001b[39;00m \u001b[38;5;28;01mas\u001b[39;00m \u001b[38;5;21;01mnp\u001b[39;00m \n\u001b[1;32m      3\u001b[0m \u001b[38;5;28;01mimport\u001b[39;00m \u001b[38;5;21;01mmatplotlib\u001b[39;00m\u001b[38;5;21;01m.\u001b[39;00m\u001b[38;5;21;01mpyplot\u001b[39;00m \u001b[38;5;28;01mas\u001b[39;00m \u001b[38;5;21;01mplt\u001b[39;00m\n\u001b[0;32m----> 4\u001b[0m \u001b[38;5;28;01mfrom\u001b[39;00m \u001b[38;5;21;01mtensorflow\u001b[39;00m \u001b[38;5;28;01mimport\u001b[39;00m keras\n\u001b[1;32m      5\u001b[0m \u001b[38;5;28;01mfrom\u001b[39;00m \u001b[38;5;21;01mkeras\u001b[39;00m\u001b[38;5;21;01m.\u001b[39;00m\u001b[38;5;21;01mpreprocessing\u001b[39;00m \u001b[38;5;28;01mimport\u001b[39;00m image\n",
      "\u001b[0;31mModuleNotFoundError\u001b[0m: No module named 'tensorflow'"
     ]
    }
   ],
   "source": [
    "# Import Packages\n",
    "import os\n",
    "import numpy as np\n",
    "import matplotlib.pyplot as plt\n",
    "from tensorflow import keras\n",
    "from keras.preprocessing import image"
   ]
  },
  {
   "cell_type": "code",
   "execution_count": null,
   "metadata": {},
   "outputs": [],
   "source": [
    "data_dir=\"../data/raw\"\n",
    "\n",
    "dog_subfolder = os.path.join(data_dir,\"dog\")\n",
    "\n",
    "dog_image_files=os.listdir(dog_subfolder)\n",
    "\n",
    "dog_images=[]\n",
    "for i in range (9):\n",
    "    img_path=os.path.join(dog_subfolder, dog_image_files[i])\n",
    "    img= image.load_img(img_path)\n",
    "    img_array= image.img_to_array(img)\n",
    "    img_array/= 255.0\n",
    "    dog_images.append(img_array)\n",
    "\n",
    "\n",
    "plt.figure(figsize=(12,8))\n",
    "\n",
    "\n",
    "for i in range(9):\n",
    "    plt.subplots(3,3, i +1)\n",
    "    plt.subplots(dog_images[i])\n",
    "    plt.imshow('Dog Image')\n",
    "    plt.axis('off')\n",
    "\n",
    "\n",
    "\n",
    "\n",
    "plt.tight_layout()\n",
    "\n",
    "plt.show()\n",
    "\n"
   ]
  },
  {
   "cell_type": "code",
   "execution_count": null,
   "metadata": {},
   "outputs": [],
   "source": [
    "data_dir=\"../data/raw\"\n",
    "\n",
    "cats_subfolder= os.path.join(data_dir,\"cat\")\n",
    "\n",
    "cat_image_files=os.listdir(cats_subfolder)\n",
    "\n",
    "\n",
    "cats_images=[]\n",
    "for i in range (min(9,len(cat_image_files))):\n",
    "    img_path = os.path.join(cats_subfolder, cat_image_files[i])\n",
    "    img = image.load_img(img_path)\n",
    "    img_array= image.img_to_array(img)\n",
    "    img_array/= 255.0\n",
    "    cats_images.append(img_array)\n",
    "\n",
    "plt.figure(figsize=(12,8))\n",
    "\n",
    "for i in range (len(cats_images)):\n",
    "    plt.subplots(3,3,i+1)\n",
    "    plt.imshow(cats_images[i])\n",
    "    plt.title('Cat Image')\n",
    "    plt.axis('off')\n",
    "\n",
    "\n",
    "plt.tight_layout()\n",
    "\n",
    "plt.show()\n"
   ]
  }
 ],
 "metadata": {
  "kernelspec": {
   "display_name": "Python 3",
   "language": "python",
   "name": "python3"
  },
  "language_info": {
   "codemirror_mode": {
    "name": "ipython",
    "version": 3
   },
   "file_extension": ".py",
   "mimetype": "text/x-python",
   "name": "python",
   "nbconvert_exporter": "python",
   "pygments_lexer": "ipython3",
   "version": "3.11.4"
  }
 },
 "nbformat": 4,
 "nbformat_minor": 2
}
